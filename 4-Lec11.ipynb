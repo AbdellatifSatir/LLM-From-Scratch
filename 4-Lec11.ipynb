{
 "cells": [
  {
   "cell_type": "markdown",
   "metadata": {},
   "source": [
    "### Positional Embeddings \n",
    "#### Encoding word positions"
   ]
  },
  {
   "cell_type": "code",
   "execution_count": 1,
   "metadata": {},
   "outputs": [],
   "source": [
    "import torch"
   ]
  },
  {
   "cell_type": "code",
   "execution_count": 2,
   "metadata": {},
   "outputs": [
    {
     "name": "stdout",
     "output_type": "stream",
     "text": [
      "Embedding(50257, 256)\n"
     ]
    }
   ],
   "source": [
    "vocab_size = 50257 # token\n",
    "output_dim = 256   # vector dim\n",
    "\n",
    "token_embedding_layer = torch.nn.Embedding(vocab_size, output_dim)\n",
    "print(token_embedding_layer)"
   ]
  },
  {
   "cell_type": "code",
   "execution_count": 3,
   "metadata": {},
   "outputs": [],
   "source": [
    "with open('the-verdict.txt', mode='r') as f:\n",
    "    raw_data = f.read()"
   ]
  },
  {
   "cell_type": "code",
   "execution_count": 4,
   "metadata": {},
   "outputs": [
    {
     "name": "stderr",
     "output_type": "stream",
     "text": [
      "c:\\Users\\pc\\Desktop\\LLM from scratch\\modules.py:68: UserWarning: To copy construct from a tensor, it is recommended to use sourceTensor.clone().detach() or sourceTensor.clone().detach().requires_grad_(True), rather than torch.tensor(sourceTensor).\n",
      "  return torch.tensor(self.input_ids[idx]) , torch.tensor(self.target_ids[idx])\n"
     ]
    },
    {
     "name": "stdout",
     "output_type": "stream",
     "text": [
      "Inputs:\n",
      " tensor([[   40,   367,  2885,  1464],\n",
      "        [ 1807,  3619,   402,   271],\n",
      "        [10899,  2138,   257,  7026],\n",
      "        [15632,   438,  2016,   257],\n",
      "        [  922,  5891,  1576,   438],\n",
      "        [  568,   340,   373,   645],\n",
      "        [ 1049,  5975,   284,   502],\n",
      "        [  284,  3285,   326,    11]])\n",
      "\n",
      "Targets:\n",
      " tensor([[  367,  2885,  1464,  1807],\n",
      "        [ 3619,   402,   271, 10899],\n",
      "        [ 2138,   257,  7026, 15632],\n",
      "        [  438,  2016,   257,   922],\n",
      "        [ 5891,  1576,   438,   568],\n",
      "        [  340,   373,   645,  1049],\n",
      "        [ 5975,   284,   502,   284],\n",
      "        [ 3285,   326,    11,   287]])\n",
      "torch.Size([8, 4])\n"
     ]
    }
   ],
   "source": [
    "from modules import create_dataloader_v1\n",
    "\n",
    "max_lenght = 4\n",
    "dataloader = create_dataloader_v1(\n",
    "    raw_data, batch_size=8, max_length=max_lenght, stride=max_lenght, shuflle=False\n",
    ")\n",
    "\n",
    "data_iter = iter(dataloader)\n",
    "inputs, targets = next(data_iter)\n",
    "print(\"Inputs:\\n\",inputs)\n",
    "print(\"\\nTargets:\\n\",targets)\n",
    "print(inputs.shape)"
   ]
  },
  {
   "cell_type": "code",
   "execution_count": 5,
   "metadata": {},
   "outputs": [
    {
     "name": "stdout",
     "output_type": "stream",
     "text": [
      "torch.Size([8, 4])\n",
      "torch.Size([8, 4, 256])\n",
      "tensor([[ 0.6400,  1.4253,  1.7338,  ...,  0.7259, -0.1415,  0.0948],\n",
      "        [ 0.5959,  0.9178, -0.1582,  ..., -1.1530, -0.5945,  0.2881],\n",
      "        [-0.7288,  0.1609,  1.7162,  ..., -0.6956, -0.4091,  0.0645],\n",
      "        [-0.3487, -0.8503, -1.3425,  ..., -1.8181,  2.0696,  0.0907]],\n",
      "       grad_fn=<SelectBackward0>)\n",
      "torch.Size([4, 256])\n"
     ]
    }
   ],
   "source": [
    "token_embeddings = token_embedding_layer(inputs)\n",
    "print(inputs.shape)\n",
    "print(token_embeddings.shape)\n",
    "print(token_embeddings[0])\n",
    "print(token_embeddings[0].shape)"
   ]
  },
  {
   "cell_type": "code",
   "execution_count": 6,
   "metadata": {},
   "outputs": [
    {
     "name": "stdout",
     "output_type": "stream",
     "text": [
      "Embedding(4, 256)\n",
      "tensor([[ 1.3217, -0.1065,  1.3905,  ...,  1.1946,  2.1748, -0.2364],\n",
      "        [ 1.0468, -0.3573, -2.0868,  ..., -0.7510,  0.9517,  1.7973],\n",
      "        [-0.4868,  0.6015, -0.7261,  ...,  0.1876, -1.0858,  2.0149],\n",
      "        [ 0.8868, -0.1475, -2.0278,  ..., -1.1180,  0.7815,  0.2601]],\n",
      "       grad_fn=<EmbeddingBackward0>)\n",
      "torch.Size([4, 256])\n"
     ]
    }
   ],
   "source": [
    "context_lentgh = max_lenght\n",
    "pos_embedding_layer = torch.nn.Embedding(context_lentgh, output_dim)\n",
    "print(pos_embedding_layer)\n",
    "\n",
    "pos_embeddings = pos_embedding_layer(torch.arange(max_lenght))\n",
    "print(pos_embeddings)\n",
    "print(pos_embeddings.shape)"
   ]
  },
  {
   "cell_type": "code",
   "execution_count": 7,
   "metadata": {},
   "outputs": [
    {
     "data": {
      "text/plain": [
       "tensor([[ 1.9618,  1.3188,  3.1243,  ...,  1.9206,  2.0332, -0.1417],\n",
       "        [ 1.6427,  0.5605, -2.2450,  ..., -1.9040,  0.3573,  2.0854],\n",
       "        [-1.2156,  0.7623,  0.9901,  ..., -0.5079, -1.4949,  2.0794],\n",
       "        [ 0.5381, -0.9977, -3.3703,  ..., -2.9360,  2.8511,  0.3508]],\n",
       "       grad_fn=<AddBackward0>)"
      ]
     },
     "execution_count": 7,
     "metadata": {},
     "output_type": "execute_result"
    }
   ],
   "source": [
    "token_embeddings[0] + pos_embeddings"
   ]
  },
  {
   "cell_type": "code",
   "execution_count": 8,
   "metadata": {},
   "outputs": [
    {
     "name": "stdout",
     "output_type": "stream",
     "text": [
      "torch.Size([8, 4, 256])\n",
      "torch.Size([4, 256])\n",
      "torch.Size([8, 4, 256])\n"
     ]
    }
   ],
   "source": [
    "input_embeddings = token_embeddings + pos_embeddings\n",
    "print(token_embeddings.shape)\n",
    "print(pos_embeddings.shape)\n",
    "print(input_embeddings.shape)"
   ]
  },
  {
   "cell_type": "code",
   "execution_count": null,
   "metadata": {},
   "outputs": [],
   "source": []
  },
  {
   "cell_type": "code",
   "execution_count": null,
   "metadata": {},
   "outputs": [],
   "source": []
  }
 ],
 "metadata": {
  "kernelspec": {
   "display_name": "Python 3",
   "language": "python",
   "name": "python3"
  },
  "language_info": {
   "codemirror_mode": {
    "name": "ipython",
    "version": 3
   },
   "file_extension": ".py",
   "mimetype": "text/x-python",
   "name": "python",
   "nbconvert_exporter": "python",
   "pygments_lexer": "ipython3",
   "version": "3.10.5"
  }
 },
 "nbformat": 4,
 "nbformat_minor": 2
}
